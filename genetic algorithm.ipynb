{
 "cells": [
  {
   "cell_type": "code",
   "execution_count": 130,
   "id": "f6480c12",
   "metadata": {},
   "outputs": [],
   "source": [
    "import random\n",
    "import random as rand\n",
    "from random import randint\n",
    "import numpy as np\n",
    "import tensorflow as tf\n",
    "bce = tf.keras.losses.BinaryCrossentropy()\n",
    "target = np.array([1.0,1.0,1.0,1.0,1.0,1.0,1.0,1.0,1.0,1.0,1.0,1.0])"
   ]
  },
  {
   "cell_type": "code",
   "execution_count": 131,
   "id": "7b0f60a2",
   "metadata": {},
   "outputs": [],
   "source": [
    "#create random population I is number of instances to create S size of instances\n",
    "def population(I, S):\n",
    "    population = []\n",
    "    instance = []\n",
    "    for i in range(I):\n",
    "        if len(instance) > 0:\n",
    "            population.append(np.array(instance))\n",
    "            instance = []\n",
    "        elif len(instance) == 0:\n",
    "            instance = []\n",
    "        for s in range(S):\n",
    "            rand = random.randint(0, 100)\n",
    "            if rand%2 == 0:\n",
    "                instance.append(0.0)\n",
    "            elif rand%2 > 0:\n",
    "                instance.append(1.0)\n",
    "    #return np.array(population)\n",
    "    return population\n"
   ]
  },
  {
   "cell_type": "code",
   "execution_count": 132,
   "id": "868fa43c",
   "metadata": {},
   "outputs": [],
   "source": [
    "# call population to get list of numpy arrays\n",
    "pops = population(12, 12)"
   ]
  },
  {
   "cell_type": "code",
   "execution_count": 133,
   "id": "5514d76f",
   "metadata": {},
   "outputs": [
    {
     "name": "stdout",
     "output_type": "stream",
     "text": [
      "first\n",
      "[0. 1. 1. 1. 1. 0. 1. 1. 0. 0. 1. 1.]\n"
     ]
    }
   ],
   "source": [
    "#sort population based its objective score\n",
    "def objective(pops, target):\n",
    "    SortedPop = []\n",
    "    best = float('inf')\n",
    "    bestI = False\n",
    "    beste = float('inf')\n",
    "    for i in range(len(pops)):\n",
    "        #print(best)\n",
    "        if beste > bce(target, pops[i]):\n",
    "            bestI = i\n",
    "            best = pops[i]\n",
    "            beste = bce(target, pops[i])\n",
    "    pops.pop(bestI)\n",
    "    return best, pops\n",
    "\n",
    "SortedPop = []\n",
    "for i in range(len(pops)):\n",
    "    best, pops = objective(pops, target)\n",
    "    SortedPop.append(best)\n",
    "print('first')    \n",
    "print(SortedPop[0])"
   ]
  },
  {
   "cell_type": "code",
   "execution_count": 134,
   "id": "cce0b943",
   "metadata": {},
   "outputs": [],
   "source": [
    "def crossover(p1, p2, r_cross):\n",
    "\t# children are copies of parents by default\n",
    "\tc1, c2 = p1.copy(), p2.copy()\n",
    "\t# check for recombination\n",
    "\tif random.uniform(0, 1) < r_cross:\n",
    "\t\t# select crossover point that is not on the end of the string\n",
    "\t\tpt = randint(1, len(p1)-2)\n",
    "\t\t# perform crossover\n",
    "\t\tc1 = np.concatenate((p1[:pt], p2[pt:]), axis=0)\n",
    "\t\t#c1 = p1[:pt] + p2[pt:]\n",
    "\t\tc2 = np.concatenate((p2[:pt], p1[pt:]), axis=0)\n",
    "\t\t#c2 = p2[:pt] + p1[pt:]\n",
    "\treturn [c1, c2]"
   ]
  },
  {
   "cell_type": "code",
   "execution_count": 135,
   "id": "7504d7b9",
   "metadata": {},
   "outputs": [],
   "source": [
    "def mutation(bitstring, r_mut):\n",
    "\tfor i in range(len(bitstring)):\n",
    "\t\t# check for a mutation\n",
    "\t\tif random.uniform(0, 1) < r_mut:\n",
    "\t\t\t# flip the bit\n",
    "\t\t\tbitstring[i] = 1 - bitstring[i]\n",
    "\t\t\t#print('boink')\n",
    "#\treturn bitstring"
   ]
  },
  {
   "cell_type": "code",
   "execution_count": 136,
   "id": "5541302a",
   "metadata": {},
   "outputs": [],
   "source": [
    "def genetic_algorithm(gens):\n",
    "    pops = population(24, 12)\n",
    "    SortedPop = [np.zeros(12)]\n",
    "    g = 0\n",
    "    while bce(target, SortedPop[0]) > .1:\n",
    "        SortedPop = []\n",
    "        for j in range(len(pops)):\n",
    "            best, pops = objective(pops, target)\n",
    "            SortedPop.append(best)\n",
    "        \n",
    "        children = []\n",
    "        selected = SortedPop[:12]\n",
    "        for i in range(0, len(selected), 2):\n",
    "            p1, p2 = SortedPop[i], SortedPop[i+1]\n",
    "            for c in crossover(p1,p2, .8):\n",
    "                mutation(c, .1)\n",
    "                children.append(c)\n",
    "        g += 1\n",
    "        print(g)\n",
    "        pops = children\n",
    "    return SortedPop[0]\n",
    "    "
   ]
  },
  {
   "cell_type": "code",
   "execution_count": 137,
   "id": "a02586b9",
   "metadata": {},
   "outputs": [
    {
     "name": "stdout",
     "output_type": "stream",
     "text": [
      "1\n",
      "2\n",
      "3\n",
      "4\n",
      "5\n",
      "6\n",
      "7\n",
      "8\n",
      "9\n",
      "10\n",
      "11\n",
      "12\n",
      "13\n",
      "14\n",
      "15\n",
      "16\n",
      "17\n",
      "18\n",
      "19\n",
      "20\n",
      "21\n",
      "22\n"
     ]
    },
    {
     "data": {
      "text/plain": [
       "array([1., 1., 1., 1., 1., 1., 1., 1., 1., 1., 1., 1.])"
      ]
     },
     "execution_count": 137,
     "metadata": {},
     "output_type": "execute_result"
    }
   ],
   "source": [
    "genetic_algorithm(100)"
   ]
  },
  {
   "cell_type": "code",
   "execution_count": null,
   "id": "3ed0988c",
   "metadata": {},
   "outputs": [],
   "source": []
  },
  {
   "cell_type": "code",
   "execution_count": null,
   "id": "14796540",
   "metadata": {},
   "outputs": [],
   "source": []
  }
 ],
 "metadata": {
  "kernelspec": {
   "display_name": "Python 3 (ipykernel)",
   "language": "python",
   "name": "python3"
  },
  "language_info": {
   "codemirror_mode": {
    "name": "ipython",
    "version": 3
   },
   "file_extension": ".py",
   "mimetype": "text/x-python",
   "name": "python",
   "nbconvert_exporter": "python",
   "pygments_lexer": "ipython3",
   "version": "3.8.10"
  }
 },
 "nbformat": 4,
 "nbformat_minor": 5
}
